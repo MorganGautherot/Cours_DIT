{
  "nbformat": 4,
  "nbformat_minor": 0,
  "metadata": {
    "colab": {
      "provenance": []
    },
    "kernelspec": {
      "name": "python3",
      "display_name": "Python 3"
    },
    "language_info": {
      "name": "python"
    }
  },
  "cells": [
    {
      "cell_type": "markdown",
      "source": [
        "Dans ce notebook l'idée est d'apprendre à suivre une source issue d'internet. \n",
        "\n",
        "Vous devez vous approprier les informations contenus dans ce [tuto](https://machinelearningknowledge.ai/tutorial-for-k-means-clustering-in-python-sklearn/) et l'appliquer à notre problèmatique."
      ],
      "metadata": {
        "id": "PJn3RohJMKl4"
      }
    },
    {
      "cell_type": "markdown",
      "source": [
        "# Importation des packages"
      ],
      "metadata": {
        "id": "bvB27HK--a4b"
      }
    },
    {
      "cell_type": "code",
      "execution_count": null,
      "metadata": {
        "id": "tyIT6aNr-Nax"
      },
      "outputs": [],
      "source": [
        "from sklearn.datasets import load_iris"
      ]
    },
    {
      "cell_type": "markdown",
      "source": [
        "# Importation des données"
      ],
      "metadata": {
        "id": "eWbkxqGd-fPf"
      }
    },
    {
      "cell_type": "code",
      "source": [
        "# Data frame for our classification example\n",
        "iris = load_iris()\n",
        "\n",
        "X_clas = iris.data[:, ]"
      ],
      "metadata": {
        "id": "RI-GynHw-dA0"
      },
      "execution_count": null,
      "outputs": []
    },
    {
      "cell_type": "markdown",
      "source": [
        "# Séparation du jeu d'entraînement et de test"
      ],
      "metadata": {
        "id": "CAXMaQLB-ldy"
      }
    },
    {
      "cell_type": "code",
      "source": [
        "# Your code"
      ],
      "metadata": {
        "id": "KT10J9d8-r5L"
      },
      "execution_count": null,
      "outputs": []
    },
    {
      "cell_type": "markdown",
      "source": [
        "# Normalisation des données"
      ],
      "metadata": {
        "id": "neoSqnHW-hA5"
      }
    },
    {
      "cell_type": "code",
      "source": [
        "# Your code"
      ],
      "metadata": {
        "id": "GJeirtQi-ifL"
      },
      "execution_count": null,
      "outputs": []
    },
    {
      "cell_type": "markdown",
      "source": [
        "# Détermination du nombre de classe"
      ],
      "metadata": {
        "id": "NauYYoBb-_yN"
      }
    },
    {
      "cell_type": "code",
      "source": [
        "# Your code"
      ],
      "metadata": {
        "id": "a5NoVHEg_CcE"
      },
      "execution_count": null,
      "outputs": []
    },
    {
      "cell_type": "markdown",
      "source": [
        "# Entraînement du modèle"
      ],
      "metadata": {
        "id": "Kgh5Uh8s-vsi"
      }
    },
    {
      "cell_type": "markdown",
      "source": [
        "Entraînement [K-means](https://scikit-learn.org/stable/modules/generated/sklearn.cluster.KMeans.html)"
      ],
      "metadata": {
        "id": "DEwnZk0b-yq2"
      }
    },
    {
      "cell_type": "code",
      "source": [
        "# Your code"
      ],
      "metadata": {
        "id": "JK9GE3Es-w6P"
      },
      "execution_count": null,
      "outputs": []
    },
    {
      "cell_type": "markdown",
      "source": [
        "# Calcul de performance du modèle"
      ],
      "metadata": {
        "id": "zcSHz7y--2ch"
      }
    },
    {
      "cell_type": "code",
      "source": [
        "# Your code"
      ],
      "metadata": {
        "id": "hZB48m1S-91i"
      },
      "execution_count": null,
      "outputs": []
    },
    {
      "cell_type": "markdown",
      "source": [
        "# Application du modèle sur de nouvelles données"
      ],
      "metadata": {
        "id": "hkew5CoM_FAR"
      }
    },
    {
      "cell_type": "code",
      "source": [
        "# Your code"
      ],
      "metadata": {
        "id": "Agtx8Ya2_Hvr"
      },
      "execution_count": null,
      "outputs": []
    },
    {
      "cell_type": "markdown",
      "source": [
        "# Visualisation des classes sur les variables longueur sepal et pétale"
      ],
      "metadata": {
        "id": "eFf4SEUI_J_0"
      }
    },
    {
      "cell_type": "code",
      "source": [
        "# Your code"
      ],
      "metadata": {
        "id": "ZYBFp8xD_O3N"
      },
      "execution_count": null,
      "outputs": []
    }
  ]
}