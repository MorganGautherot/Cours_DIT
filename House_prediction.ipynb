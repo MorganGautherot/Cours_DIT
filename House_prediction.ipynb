{
  "nbformat": 4,
  "nbformat_minor": 0,
  "metadata": {
    "colab": {
      "provenance": []
    },
    "kernelspec": {
      "name": "python3",
      "display_name": "Python 3"
    },
    "language_info": {
      "name": "python"
    }
  },
  "cells": [
    {
      "cell_type": "markdown",
      "source": [
        "Dans ce projet nous allons essayer de résoudre un problème de régression. C'est-à-dire la prédiction d'une variable cible continue. \n",
        "\n",
        "L'objectif est de prédire le prix de maisons en fonction de leurs caractéristiques. Pour cela nous allons utiliser ce [jeu de données](https://www.kaggle.com/competitions/house-prices-advanced-regression-techniques) disponible sur Kaggle."
      ],
      "metadata": {
        "id": "CQ8PwpdzE32u"
      }
    },
    {
      "cell_type": "markdown",
      "source": [
        "# Importations des packages"
      ],
      "metadata": {
        "id": "QN9ZJrX_VUv_"
      }
    },
    {
      "cell_type": "code",
      "execution_count": null,
      "metadata": {
        "id": "vNQWYIMvU_t1"
      },
      "outputs": [],
      "source": []
    },
    {
      "cell_type": "markdown",
      "source": [
        "# Importation des données"
      ],
      "metadata": {
        "id": "qrySo8xHVXQK"
      }
    },
    {
      "cell_type": "markdown",
      "source": [
        "Le jeu de données ce trouve dans ce [google drive](https://drive.google.com/drive/folders/15H8Hr8HX792zOWjUGGgTTR9FAgKMTcvz?usp=share_link). \n",
        "\n",
        "Ajouter le en raccourci de votre google drive.\n",
        "\n"
      ],
      "metadata": {
        "id": "K5y4J4usW926"
      }
    },
    {
      "cell_type": "code",
      "source": [
        "from google.colab import drive\n",
        "drive.mount('/content/gdrive/')"
      ],
      "metadata": {
        "id": "UPT4zkXAW9Rb"
      },
      "execution_count": null,
      "outputs": []
    },
    {
      "cell_type": "code",
      "source": [],
      "metadata": {
        "id": "Q68dLCtWZMzu"
      },
      "execution_count": null,
      "outputs": []
    },
    {
      "cell_type": "markdown",
      "source": [
        "# Analysez vos données"
      ],
      "metadata": {
        "id": "kly3-5QzVZLc"
      }
    },
    {
      "cell_type": "code",
      "source": [],
      "metadata": {
        "id": "2nl9wEMjVbga"
      },
      "execution_count": null,
      "outputs": []
    },
    {
      "cell_type": "markdown",
      "source": [
        "# Sélectionner les variables les plus intéressantes"
      ],
      "metadata": {
        "id": "BJppJ0JQF7Ig"
      }
    },
    {
      "cell_type": "code",
      "source": [],
      "metadata": {
        "id": "9ERCN5MBGA2n"
      },
      "execution_count": null,
      "outputs": []
    },
    {
      "cell_type": "markdown",
      "source": [
        "# Séparer le jeu de train et de test"
      ],
      "metadata": {
        "id": "j0uADM8AWXVv"
      }
    },
    {
      "cell_type": "code",
      "source": [],
      "metadata": {
        "id": "W_ZMEXvRGBo7"
      },
      "execution_count": null,
      "outputs": []
    },
    {
      "cell_type": "markdown",
      "source": [
        "# Normaliser le jeu de données"
      ],
      "metadata": {
        "id": "JBUmKvRHWafB"
      }
    },
    {
      "cell_type": "code",
      "source": [],
      "metadata": {
        "id": "go6tUzRjGCES"
      },
      "execution_count": null,
      "outputs": []
    },
    {
      "cell_type": "markdown",
      "source": [
        "# Entraînez vos modèles"
      ],
      "metadata": {
        "id": "TkrrM0_GVb7e"
      }
    },
    {
      "cell_type": "markdown",
      "source": [
        "### Entraînez un modèle de base"
      ],
      "metadata": {
        "id": "UER2nDAXVjUO"
      }
    },
    {
      "cell_type": "markdown",
      "source": [
        "Utiliser la fonction **DummyRegressor**"
      ],
      "metadata": {
        "id": "yN-UYv7oVqhT"
      }
    },
    {
      "cell_type": "code",
      "source": [],
      "metadata": {
        "id": "SXE4KylPGJdQ"
      },
      "execution_count": null,
      "outputs": []
    },
    {
      "cell_type": "markdown",
      "source": [
        "### Entraîner un modèle KNN"
      ],
      "metadata": {
        "id": "FLUdporLVwAP"
      }
    },
    {
      "cell_type": "markdown",
      "source": [
        "#### Initialisation"
      ],
      "metadata": {
        "id": "-PjmP-FLZ9OW"
      }
    },
    {
      "cell_type": "code",
      "source": [],
      "metadata": {
        "id": "b2GT4bYGGKKz"
      },
      "execution_count": null,
      "outputs": []
    },
    {
      "cell_type": "markdown",
      "source": [
        "#### Entraînement"
      ],
      "metadata": {
        "id": "1AxNKGxbZ_YV"
      }
    },
    {
      "cell_type": "code",
      "source": [],
      "metadata": {
        "id": "Z3_gz799GKlW"
      },
      "execution_count": null,
      "outputs": []
    },
    {
      "cell_type": "markdown",
      "source": [
        "#### prediction sur le jeu de test"
      ],
      "metadata": {
        "id": "hYv8s3F3aA1l"
      }
    },
    {
      "cell_type": "code",
      "source": [],
      "metadata": {
        "id": "Wisx3l-lGK46"
      },
      "execution_count": null,
      "outputs": []
    },
    {
      "cell_type": "markdown",
      "source": [
        "#### Calcul des performances "
      ],
      "metadata": {
        "id": "5yQVif4XaCzg"
      }
    },
    {
      "cell_type": "code",
      "source": [],
      "metadata": {
        "id": "td-dQj1WGLQ6"
      },
      "execution_count": null,
      "outputs": []
    },
    {
      "cell_type": "markdown",
      "source": [
        "### Entraîner un modèle d'arbre"
      ],
      "metadata": {
        "id": "8Wqcd2aNVyTg"
      }
    },
    {
      "cell_type": "code",
      "source": [],
      "metadata": {
        "id": "RilN10HvGLuj"
      },
      "execution_count": null,
      "outputs": []
    },
    {
      "cell_type": "markdown",
      "source": [
        "### Entraîner un modèle linéaire"
      ],
      "metadata": {
        "id": "CGPaXs9OV1zc"
      }
    },
    {
      "cell_type": "code",
      "source": [],
      "metadata": {
        "id": "2d_mXGiwGMLe"
      },
      "execution_count": null,
      "outputs": []
    },
    {
      "cell_type": "markdown",
      "source": [
        "### Entraîner un modèle Ridge"
      ],
      "metadata": {
        "id": "n-Ce5QqEV6kz"
      }
    },
    {
      "cell_type": "code",
      "source": [],
      "metadata": {
        "id": "eVK08URbGMsA"
      },
      "execution_count": null,
      "outputs": []
    },
    {
      "cell_type": "markdown",
      "source": [
        "### Entraîner un modèle Lasso"
      ],
      "metadata": {
        "id": "dEZ5_2shV77N"
      }
    },
    {
      "cell_type": "code",
      "source": [],
      "metadata": {
        "id": "PIUkyqaYGNLS"
      },
      "execution_count": null,
      "outputs": []
    },
    {
      "cell_type": "markdown",
      "source": [
        "### Entraîner un modèle Elastic Net"
      ],
      "metadata": {
        "id": "HFrg4dm5V9On"
      }
    },
    {
      "cell_type": "code",
      "source": [],
      "metadata": {
        "id": "KVgyLeynGNgz"
      },
      "execution_count": null,
      "outputs": []
    },
    {
      "cell_type": "markdown",
      "source": [
        "### Entraîner un modèle de Support Vector Machine"
      ],
      "metadata": {
        "id": "LWou_5TDQjRP"
      }
    },
    {
      "cell_type": "code",
      "source": [],
      "metadata": {
        "id": "kElWlMHPQnTo"
      },
      "execution_count": null,
      "outputs": []
    },
    {
      "cell_type": "markdown",
      "source": [
        "### Entraîner un modèle Random Forest"
      ],
      "metadata": {
        "id": "81WKnO2eV-ds"
      }
    },
    {
      "cell_type": "code",
      "source": [],
      "metadata": {
        "id": "KieqT8CvGN9i"
      },
      "execution_count": null,
      "outputs": []
    },
    {
      "cell_type": "markdown",
      "source": [
        "### Entraîner un modèle AdaBoost"
      ],
      "metadata": {
        "id": "5IXkYMV3WACF"
      }
    },
    {
      "cell_type": "code",
      "source": [],
      "metadata": {
        "id": "o8ZKOFHTGOXW"
      },
      "execution_count": null,
      "outputs": []
    },
    {
      "cell_type": "markdown",
      "source": [
        "### Entraîner un modèle Gradient Boosting Tree"
      ],
      "metadata": {
        "id": "Uh3smEqnWBUV"
      }
    },
    {
      "cell_type": "code",
      "source": [],
      "metadata": {
        "id": "GcRtpZI2GO2T"
      },
      "execution_count": null,
      "outputs": []
    },
    {
      "cell_type": "markdown",
      "source": [
        "# Comparer les performances de vos différents modèles"
      ],
      "metadata": {
        "id": "Jx2N1loLGPGu"
      }
    },
    {
      "cell_type": "code",
      "source": [],
      "metadata": {
        "id": "v_SiIU5MGTOB"
      },
      "execution_count": null,
      "outputs": []
    },
    {
      "cell_type": "markdown",
      "source": [
        "Choisir le modèle le plus performant"
      ],
      "metadata": {
        "id": "6ePs4WLLGUaW"
      }
    },
    {
      "cell_type": "markdown",
      "source": [
        "## Optimisation des hyperparamètres"
      ],
      "metadata": {
        "id": "7d3AZrpcWDvH"
      }
    },
    {
      "cell_type": "markdown",
      "source": [
        "Utilisez la fonction grid search pour optimiser les hyperparamètres du modèle le plus performant."
      ],
      "metadata": {
        "id": "g6aby0gKWGDV"
      }
    },
    {
      "cell_type": "code",
      "source": [],
      "metadata": {
        "id": "BkjTtBr9VfvQ"
      },
      "execution_count": null,
      "outputs": []
    },
    {
      "cell_type": "markdown",
      "source": [
        "# Appliquer le modèle optimisé sur le jeux de données de test fourni par Kaggle"
      ],
      "metadata": {
        "id": "Wc3W1FxAGYcN"
      }
    },
    {
      "cell_type": "code",
      "source": [],
      "metadata": {
        "id": "sMbITRJqGd1G"
      },
      "execution_count": null,
      "outputs": []
    },
    {
      "cell_type": "markdown",
      "source": [
        "# Obtenir le même format de prédiction que le fichier sample_submission "
      ],
      "metadata": {
        "id": "8m2zbnXIGeeb"
      }
    },
    {
      "cell_type": "code",
      "source": [],
      "metadata": {
        "id": "nETi3bjYGjGJ"
      },
      "execution_count": null,
      "outputs": []
    },
    {
      "cell_type": "markdown",
      "source": [
        "# Soumettre la prédiction au site Kaggle"
      ],
      "metadata": {
        "id": "CKDeEudTGjiq"
      }
    },
    {
      "cell_type": "markdown",
      "source": [
        "Indiquez ci-desssous la performance obtenue"
      ],
      "metadata": {
        "id": "ZW1q9q6GGmnD"
      }
    },
    {
      "cell_type": "code",
      "source": [],
      "metadata": {
        "id": "AiJoJxipGmO7"
      },
      "execution_count": null,
      "outputs": []
    }
  ]
}