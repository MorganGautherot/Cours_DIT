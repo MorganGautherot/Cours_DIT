{
  "cells": [
    {
      "cell_type": "markdown",
      "source": [
        "# La régression linéaire from scratch"
      ],
      "metadata": {
        "id": "ZN-Sr14c_Ejg"
      }
    },
    {
      "cell_type": "markdown",
      "source": [
        "Comme vous le savez, je pense intimement que la meilleure façon de bien comprendre un algorithme est de le recoder from scratch. \n",
        "\n",
        "Dans ce notebook, on va coder from scratch l'algorithme de la régression linéaire."
      ],
      "metadata": {
        "id": "-SLFjiD7_Qn-"
      }
    },
    {
      "cell_type": "markdown",
      "source": [
        "# Importation des packages"
      ],
      "metadata": {
        "id": "lamJwJ20_jFi"
      }
    },
    {
      "cell_type": "code",
      "source": [
        "import matplotlib.pyplot as plt\n",
        "import numpy as np"
      ],
      "metadata": {
        "id": "yOcmox3-_mhg"
      },
      "execution_count": null,
      "outputs": []
    },
    {
      "cell_type": "markdown",
      "source": [
        "# Importation des données"
      ],
      "metadata": {
        "id": "Fqf3RzpK_lsh"
      }
    },
    {
      "cell_type": "markdown",
      "source": [
        "Ajoutez un raccourci de ce dossier à votre google drive :\n",
        "\n",
        "https://drive.google.com/drive/folders/1ghsB3WdBlyLRzvfede0KWDqf9P16KyHl?usp=sharing"
      ],
      "metadata": {
        "id": "PanCdE8-Z80c"
      }
    },
    {
      "cell_type": "code",
      "source": [
        "from google.colab import drive\n",
        "drive.mount('/content/drive', force_remount=True)"
      ],
      "metadata": {
        "id": "8bW_qXztZ9xJ"
      },
      "execution_count": null,
      "outputs": []
    },
    {
      "cell_type": "code",
      "source": [
        "multivariate_regression = np.genfromtxt('/content/drive/MyDrive/Turnover_prediction/multivariate_regression.txt', delimiter=',')"
      ],
      "metadata": {
        "id": "koMK3XvWAHjK"
      },
      "execution_count": null,
      "outputs": []
    },
    {
      "cell_type": "markdown",
      "source": [
        "# Préparation des données"
      ],
      "metadata": {
        "id": "1xE_et_XAOWo"
      }
    },
    {
      "cell_type": "markdown",
      "source": [
        "## Séparation des données explicatives et de la variable cible"
      ],
      "metadata": {
        "id": "iNwMSiLRfdUH"
      }
    },
    {
      "cell_type": "code",
      "source": [
        "# We construct the X dataset \n",
        "x = multivariate_regression[:, :2]\n",
        "\n",
        "# We construct the Y dataset\n",
        "y = multivariate_regression[:, 2].reshape(-1, 1)"
      ],
      "metadata": {
        "id": "3hS_OpOR_3Td"
      },
      "execution_count": null,
      "outputs": []
    },
    {
      "cell_type": "markdown",
      "source": [
        "## Visualisation des données"
      ],
      "metadata": {
        "id": "zlexX56jfjEG"
      }
    },
    {
      "cell_type": "code",
      "source": [
        "plt.scatter(x[:, 0], y)\n",
        "plt.xlabel('Population de la ville en dizaine de milliers d\\'habitants')\n",
        "plt.ylabel('Chiffre d\\'affaire en dizaine de milliers d\\'euros')\n",
        "\n",
        "plt.show()"
      ],
      "metadata": {
        "id": "HDZZYEelAMln"
      },
      "execution_count": null,
      "outputs": []
    },
    {
      "cell_type": "code",
      "source": [
        "plt.scatter(x[:, 1], y)\n",
        "plt.xlabel('Note de la ville')\n",
        "plt.ylabel('Chiffre d\\'affaire en dizaine de milliers d\\'euros')\n",
        "\n",
        "plt.show()"
      ],
      "metadata": {
        "id": "wnuPCP_3GaxA"
      },
      "execution_count": null,
      "outputs": []
    },
    {
      "cell_type": "markdown",
      "source": [
        "## Standardisation des données"
      ],
      "metadata": {
        "id": "yqxSnYtjfWUL"
      }
    },
    {
      "cell_type": "code",
      "source": [
        "x_mean = np.mean(x, axis=0)\n",
        "x_std = np.std(x, axis=0)\n",
        "x_norm = (x - x_mean) / x_std"
      ],
      "metadata": {
        "id": "Avx61ws4flR9"
      },
      "execution_count": null,
      "outputs": []
    },
    {
      "cell_type": "markdown",
      "source": [
        "# Implémentation de la classe *linear_regression*"
      ],
      "metadata": {
        "id": "gJ-pBV6ZAaFs"
      }
    },
    {
      "cell_type": "markdown",
      "source": [
        "## Initialisation de la classe"
      ],
      "metadata": {
        "id": "ssdmEVSwAiNw"
      }
    },
    {
      "cell_type": "markdown",
      "source": [
        "Dans cette classe on va initialiser les poids nécessaires à la prédiction de notre modèle."
      ],
      "metadata": {
        "id": "k8kXtKtKCGlN"
      }
    },
    {
      "cell_type": "markdown",
      "source": [
        "Note : utiliser la fonction np.random.rand de numpy"
      ],
      "metadata": {
        "id": "fj6tGm8fdSht"
      }
    },
    {
      "cell_type": "code",
      "source": [
        "class linear_regression():\n",
        "  def __init__(self, x, seed=123):\n",
        "    m, n = x.shape\n",
        "    np.random.seed(seed)\n",
        "    self._w = None"
      ],
      "metadata": {
        "id": "kzct1pUfAk5Q"
      },
      "execution_count": null,
      "outputs": []
    },
    {
      "cell_type": "markdown",
      "source": [
        "Test de la classe"
      ],
      "metadata": {
        "id": "Mb-wGXBOB8iJ"
      }
    },
    {
      "cell_type": "code",
      "source": [
        "lin_reg = linear_regression(x)\n",
        "print(lin_reg._w.shape)\n",
        "lin_reg._w"
      ],
      "metadata": {
        "id": "VW6ZxczpB8Rh"
      },
      "execution_count": null,
      "outputs": []
    },
    {
      "cell_type": "markdown",
      "source": [
        "Vous devrez avoir :\n",
        "\n",
        "array([[0.69646919],\n",
        "       [0.28613933],\n",
        "       [0.22685145]])"
      ],
      "metadata": {
        "id": "hndLo_F9cVhM"
      }
    },
    {
      "cell_type": "markdown",
      "source": [
        "## Implémentation de la classe *predict*"
      ],
      "metadata": {
        "id": "7mqqWaQ-BgyB"
      }
    },
    {
      "cell_type": "markdown",
      "source": [
        "L'objectif de cette partie est d'implémenter une fonction *predict* qui prendra en entrée un jeu de données afin d'effectuer une prediction pour chacun des exemples. \n",
        "\n",
        "Pour effectuer la prédiction la fonction *predict* utilise la formule suivante : \n",
        "\n",
        "$$pred(X) = X.W = \\hat y$$\n",
        "\n",
        "Note : la fonction dot de numpy permet de faire des multiplications matricielles"
      ],
      "metadata": {
        "id": "hl_6P1RECVYX"
      }
    },
    {
      "cell_type": "code",
      "source": [
        "class linear_regression():\n",
        "  def __init__(self, x, seed=None):\n",
        "    m, n = x.shape\n",
        "    np.random.seed(seed)\n",
        "    self._w = np.random.rand(n+1,1)\n",
        "\n",
        "  def predict(self, x):\n",
        "    m, n = x.shape\n",
        "\n",
        "    # Your code\n",
        "\n",
        "    pred = None\n",
        "    # Your code end\n",
        "    return pred"
      ],
      "metadata": {
        "id": "bwOqkcIoB7qv"
      },
      "execution_count": null,
      "outputs": []
    },
    {
      "cell_type": "code",
      "source": [
        "lin_reg = linear_regression(x)\n",
        "print(lin_reg.predict(x).shape)\n",
        "lin_reg.predict(x_norm)"
      ],
      "metadata": {
        "id": "EMqKnPBUGmhG"
      },
      "execution_count": null,
      "outputs": []
    },
    {
      "cell_type": "markdown",
      "source": [
        "Vous devez avoir :\n",
        "\n",
        "array([[ 2.01924584e-01],\n",
        "       [ 3.39122278e-02],\n",
        "       [ 3.00598507e-01],\n",
        "       [-2.63041893e-01],\n",
        "       [ 7.36229493e-01],\n",
        "       [ 3.97871276e-01],\n",
        "       [ 1.19106097e-02],\n",
        "       [-2.37586802e-02],\n",
        "       [-3.94264991e-02],\n",
        "       [-1.42370428e-03],\n",
        "       [ 3.82870173e-01],\n",
        "       [ 1.67255368e-01],\n",
        "       [ 1.30586004e-01],\n",
        "       [ 1.46454867e+00],\n",
        "       [-7.67625783e-02],\n",
        "       [ 5.02878999e-01],\n",
        "       [-2.95044246e-01],\n",
        "       [-8.74300295e-02],\n",
        "       [ 6.05886574e-01],\n",
        "       [ 7.46563587e-01],\n",
        "       [ 8.95829886e-02],\n",
        "       [-1.05696988e-01],\n",
        "       [ 3.52456592e-02],\n",
        "       [ 3.90204045e-01],\n",
        "       [ 7.97301703e-01],\n",
        "       [-1.32766697e-01],\n",
        "       [-1.34245869e-02],\n",
        "       [ 3.42601596e-01],\n",
        "       [ 2.33926937e-01],\n",
        "       [ 3.79604318e-01],\n",
        "       [-1.22031522e-01],\n",
        "       [-6.37335034e-01],\n",
        "       [ 4.16205958e-01],\n",
        "       [ 5.46283242e-01],\n",
        "       [ 3.39867010e-01],\n",
        "       [-2.04251017e-02],\n",
        "       [-8.64299559e-02],\n",
        "       [ 4.46874880e-01],\n",
        "       [ 1.14125928e+00],\n",
        "       [ 4.56875615e-01],\n",
        "       [-1.80369146e-01],\n",
        "       [ 2.46594536e-01],\n",
        "       [ 5.91885544e-01],\n",
        "       [-9.94309120e-02],\n",
        "       [-4.51055720e-01],\n",
        "       [ 3.53534682e-01],\n",
        "       [-9.84308385e-02]])"
      ],
      "metadata": {
        "id": "boeoh41mdfGZ"
      }
    },
    {
      "cell_type": "markdown",
      "source": [
        "# Implémentation de la fonction *compute_cost*"
      ],
      "metadata": {
        "id": "KPPwoGNvHC7p"
      }
    },
    {
      "cell_type": "markdown",
      "source": [
        "Dans cette fonction, nous allons implémenter la fonction de coût de notre fonction pour estimer l'erreur de prédiction de notre modèle.\n",
        "\n",
        "Pour cela, nous allons utiliser l'erreur moyenne au carré ou MSE.\n",
        "\n",
        "Expression matématique :\n",
        "$$ J(W)=\\frac{1}{2m} \\sum_{i=1}^{m} (\\hat y^{(i)} -y^{(i)})^2$$\n",
        "Expression vectorielle :\n",
        "$$ J(W)=\\frac{1}{2m} (\\hat Y-Y)^T(\\hat Y-Y)$$"
      ],
      "metadata": {
        "id": "d8_eugmcH7Fd"
      }
    },
    {
      "cell_type": "code",
      "source": [
        "class linear_regression():\n",
        "  def __init__(self, x, seed=None):\n",
        "    m, n = x.shape\n",
        "    np.random.seed(seed)\n",
        "    self._w = np.random.rand(n+1,1)\n",
        "\n",
        "  def predict(self, x):\n",
        "  # Recopier la fonction précédente\n",
        "\n",
        "  def compute_cost(self, y, y_hat):\n",
        "\n",
        "    # Your code start \n",
        "    cost = None \n",
        "    # Your code end\n",
        "\n",
        "    return cost"
      ],
      "metadata": {
        "id": "ltzKMStYHHLX"
      },
      "execution_count": null,
      "outputs": []
    },
    {
      "cell_type": "code",
      "source": [
        "lin_reg = linear_regression(x)\n",
        "y_pred = lin_reg.predict(x)\n",
        "lin_reg.compute_cost(y, y_pred)"
      ],
      "metadata": {
        "id": "seco9KzgH0MR"
      },
      "execution_count": null,
      "outputs": []
    },
    {
      "cell_type": "markdown",
      "source": [
        "# Implémentation de la fonction *fit*"
      ],
      "metadata": {
        "id": "jdUpAeJscrD8"
      }
    },
    {
      "cell_type": "markdown",
      "source": [
        "Dans cette fonction, nous allons implémenter la fonction du gradient descent. \n",
        "\n",
        "L'objectif est de trouver les valeurs des paramètres qui minimisent le plus la fonction de coût implémentée précédemment. \n",
        "\n",
        "Expression mathématique :\n",
        "$$ w_j := w_j  - \\alpha \\frac{1}{m} \\sum_{i=1}^{m} (\\hat y^{(i)}-y^{(i)})x_j^{(i)}$$\n",
        "\n",
        "Expression vectorielle :\n",
        "$$ W := W - \\frac{\\alpha}{m}X^T (\\hat Y-Y) $$"
      ],
      "metadata": {
        "id": "LcZ74xDndx_S"
      }
    },
    {
      "cell_type": "code",
      "source": [
        "class linear_regression():\n",
        "  def __init__(self, x, seed=None):\n",
        "    m, n = x.shape\n",
        "    np.random.seed(seed)\n",
        "    self._w = np.random.rand(n+1,1)\n",
        "\n",
        "  def predict(self, x):\n",
        "  # Recopier la fonction précédente\n",
        "\n",
        "  def compute_cost(self, y, y_hat):\n",
        "  # Recopier la fonction précédente\n",
        "\n",
        "  def fit(self, x, y, learning_rate=0.001, num_iters=200):\n",
        "    m, n = x.shape\n",
        "    x_1 = np.hstack((np.ones((m, 1)), x))\n",
        "    J_history = np.zeros(num_iters)\n",
        "    \n",
        "    \n",
        "    for i in range(0, num_iters):\n",
        "\n",
        "      # Your code start\n",
        "\n",
        "      # Mettez à jour les paramètres w\n",
        "      self._w = None\n",
        "      \n",
        "      # Utiliser la fonction compute pour calculer le coût\n",
        "      J_history[i] = None\n",
        "\n",
        "      # Your code end\n",
        "      \n",
        "    return J_history"
      ],
      "metadata": {
        "id": "mAcVjilDcCUs"
      },
      "execution_count": null,
      "outputs": []
    },
    {
      "cell_type": "code",
      "source": [
        "lin_reg = linear_regression(x_norm)\n",
        "history = lin_reg.fit(x_norm, y, learning_rate=0.01, num_iters=300)"
      ],
      "metadata": {
        "id": "Yo5OVNmqevKw"
      },
      "execution_count": null,
      "outputs": []
    },
    {
      "cell_type": "code",
      "source": [
        "plt.plot(history)\n",
        "plt.xlabel(\"Itérations\")\n",
        "plt.ylabel(\"J(W)\")\n",
        "plt.title(\"Evolution du coût pendant l\\'entraînement\")\n",
        "plt.show()"
      ],
      "metadata": {
        "id": "RJJsqu87ey1A"
      },
      "execution_count": null,
      "outputs": []
    },
    {
      "cell_type": "code",
      "source": [
        "plt.scatter(lin_reg.predict(x_norm), y)\n",
        "plt.plot(np.arange(100000, 700000), np.arange(100000, 700000), color='red')\n",
        "plt.ylabel('Variable cible')\n",
        "plt.xlabel('Variable prédite')\n",
        "plt.show()"
      ],
      "metadata": {
        "id": "NBp90ADPiqV6"
      },
      "execution_count": null,
      "outputs": []
    },
    {
      "cell_type": "markdown",
      "source": [
        "# Influence du learning rate "
      ],
      "metadata": {
        "id": "T6vL0QYYmWXP"
      }
    },
    {
      "cell_type": "code",
      "source": [
        "iterations=2500\n",
        "learning_rate = [0.1, 0.01, 0.001]\n",
        "J_history = np.zeros((iterations, len(learning_rate)))\n",
        "\n",
        "for i in range(0, len(learning_rate)) :\n",
        "  lin_reg = linear_regression(x_norm)\n",
        "  J_history[:, i] = lin_reg.fit(x_norm, y, learning_rate[i], num_iters=iterations)"
      ],
      "metadata": {
        "id": "ytgw9O15iCj1"
      },
      "execution_count": null,
      "outputs": []
    },
    {
      "cell_type": "code",
      "source": [
        "fig, ax = plt.subplots()\n",
        "\n",
        "plt.plot(J_history[:, 0], label=\"alpha = 0.1\")\n",
        "plt.plot(J_history[:, 1], label=\"alpha = 0.01\")\n",
        "plt.plot(J_history[:, 2], label=\"alpha = 0.001\")\n",
        "\n",
        "plt.title('Entraînement avec différent learning rate')\n",
        "plt.xlabel(\"Itérations\")\n",
        "plt.ylabel(\"J(W)\")\n",
        "ax.legend(loc='upper right')\n",
        "plt.show()"
      ],
      "metadata": {
        "id": "NtDjq5uPm0Hn"
      },
      "execution_count": null,
      "outputs": []
    }
  ],
  "metadata": {
    "colab": {
      "collapsed_sections": [],
      "provenance": []
    },
    "kernelspec": {
      "display_name": "Python 3",
      "language": "python",
      "name": "python3"
    },
    "language_info": {
      "codemirror_mode": {
        "name": "ipython",
        "version": 3
      },
      "file_extension": ".py",
      "mimetype": "text/x-python",
      "name": "python",
      "nbconvert_exporter": "python",
      "pygments_lexer": "ipython3",
      "version": "3.6.6"
    }
  },
  "nbformat": 4,
  "nbformat_minor": 0
}