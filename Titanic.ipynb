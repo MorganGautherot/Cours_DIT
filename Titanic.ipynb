{
  "nbformat": 4,
  "nbformat_minor": 0,
  "metadata": {
    "colab": {
      "provenance": []
    },
    "kernelspec": {
      "name": "python3",
      "display_name": "Python 3"
    },
    "language_info": {
      "name": "python"
    }
  },
  "cells": [
    {
      "cell_type": "markdown",
      "source": [
        "# Imporations des packages"
      ],
      "metadata": {
        "id": "QN9ZJrX_VUv_"
      }
    },
    {
      "cell_type": "code",
      "execution_count": null,
      "metadata": {
        "id": "vNQWYIMvU_t1"
      },
      "outputs": [],
      "source": []
    },
    {
      "cell_type": "markdown",
      "source": [
        "# Importation des données"
      ],
      "metadata": {
        "id": "qrySo8xHVXQK"
      }
    },
    {
      "cell_type": "markdown",
      "source": [
        "Le jeu de données ce trouve dans ce [google drive](https://drive.google.com/drive/folders/1rVOWpQVje9gk5LMPl1YRgsFg1oBq1wEY?usp=share_link). \n",
        "\n",
        "Ajouter le en raccourci de votre google drive.\n",
        "\n"
      ],
      "metadata": {
        "id": "K5y4J4usW926"
      }
    },
    {
      "cell_type": "code",
      "source": [
        "from google.colab import drive\n",
        "drive.mount('/content/gdrive/')"
      ],
      "metadata": {
        "id": "UPT4zkXAW9Rb"
      },
      "execution_count": null,
      "outputs": []
    },
    {
      "cell_type": "code",
      "source": [],
      "metadata": {
        "id": "Q68dLCtWZMzu"
      },
      "execution_count": null,
      "outputs": []
    },
    {
      "cell_type": "markdown",
      "source": [
        "# Analysez vos données"
      ],
      "metadata": {
        "id": "kly3-5QzVZLc"
      }
    },
    {
      "cell_type": "code",
      "source": [],
      "metadata": {
        "id": "2nl9wEMjVbga"
      },
      "execution_count": null,
      "outputs": []
    },
    {
      "cell_type": "markdown",
      "source": [
        "# Séparer le jeu de train et de test"
      ],
      "metadata": {
        "id": "j0uADM8AWXVv"
      }
    },
    {
      "cell_type": "markdown",
      "source": [
        "# Normaliser le jeu de données"
      ],
      "metadata": {
        "id": "JBUmKvRHWafB"
      }
    },
    {
      "cell_type": "markdown",
      "source": [
        "# Entraînez vos modèles"
      ],
      "metadata": {
        "id": "TkrrM0_GVb7e"
      }
    },
    {
      "cell_type": "markdown",
      "source": [
        "### Entraînez un modèle de base"
      ],
      "metadata": {
        "id": "UER2nDAXVjUO"
      }
    },
    {
      "cell_type": "markdown",
      "source": [
        "Utiliser la fonction **DummyClassifier**"
      ],
      "metadata": {
        "id": "yN-UYv7oVqhT"
      }
    },
    {
      "cell_type": "markdown",
      "source": [
        "### Entraîner un modèle KNN"
      ],
      "metadata": {
        "id": "FLUdporLVwAP"
      }
    },
    {
      "cell_type": "markdown",
      "source": [
        "#### Initialisation"
      ],
      "metadata": {
        "id": "-PjmP-FLZ9OW"
      }
    },
    {
      "cell_type": "markdown",
      "source": [
        "#### Entraînement"
      ],
      "metadata": {
        "id": "1AxNKGxbZ_YV"
      }
    },
    {
      "cell_type": "markdown",
      "source": [
        "#### prediction sur le jeu de test"
      ],
      "metadata": {
        "id": "hYv8s3F3aA1l"
      }
    },
    {
      "cell_type": "markdown",
      "source": [
        "#### Calcul des performances "
      ],
      "metadata": {
        "id": "5yQVif4XaCzg"
      }
    },
    {
      "cell_type": "markdown",
      "source": [
        "### Entraîner un modèle d'arbre"
      ],
      "metadata": {
        "id": "8Wqcd2aNVyTg"
      }
    },
    {
      "cell_type": "markdown",
      "source": [
        "### Entraîner un modèle logistique"
      ],
      "metadata": {
        "id": "CGPaXs9OV1zc"
      }
    },
    {
      "cell_type": "markdown",
      "source": [
        "### Entraîner un modèle Ridge"
      ],
      "metadata": {
        "id": "n-Ce5QqEV6kz"
      }
    },
    {
      "cell_type": "markdown",
      "source": [
        "### Entraîner un modèle Lasso"
      ],
      "metadata": {
        "id": "dEZ5_2shV77N"
      }
    },
    {
      "cell_type": "markdown",
      "source": [
        "### Entraîner un modèle Elastic Net"
      ],
      "metadata": {
        "id": "HFrg4dm5V9On"
      }
    },
    {
      "cell_type": "markdown",
      "source": [
        "### Entraîner un modèle Random Forest"
      ],
      "metadata": {
        "id": "81WKnO2eV-ds"
      }
    },
    {
      "cell_type": "markdown",
      "source": [
        "### Entraîner un modèle AdaBoost"
      ],
      "metadata": {
        "id": "5IXkYMV3WACF"
      }
    },
    {
      "cell_type": "markdown",
      "source": [
        "### Entraîner un modèle Gradient Boosting Tree"
      ],
      "metadata": {
        "id": "Uh3smEqnWBUV"
      }
    },
    {
      "cell_type": "markdown",
      "source": [
        "## Optimisation des hyperparamètres"
      ],
      "metadata": {
        "id": "7d3AZrpcWDvH"
      }
    },
    {
      "cell_type": "markdown",
      "source": [
        "Utilisez la fonction grid search pour optimiser les hyperparamètres du modèle le plus performant."
      ],
      "metadata": {
        "id": "g6aby0gKWGDV"
      }
    },
    {
      "cell_type": "code",
      "source": [],
      "metadata": {
        "id": "BkjTtBr9VfvQ"
      },
      "execution_count": null,
      "outputs": []
    }
  ]
}